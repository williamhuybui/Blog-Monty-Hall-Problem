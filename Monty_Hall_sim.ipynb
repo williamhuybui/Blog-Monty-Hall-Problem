{
 "cells": [
  {
   "cell_type": "code",
   "execution_count": 2,
   "metadata": {},
   "outputs": [],
   "source": [
    "import pandas as pd\n",
    "import numpy as np\n",
    "import itertools\n",
    "import matplotlib.pyplot as plt\n",
    "import seaborn as sns\n",
    "%matplotlib inline"
   ]
  },
  {
   "cell_type": "code",
   "execution_count": 3,
   "metadata": {},
   "outputs": [],
   "source": [
    "#Store the cartesian product of choice 1 and choice 2\n",
    "option1=['A','B','C']\n",
    "option2=['A','B','C']\n",
    "\n",
    "car_door=list(zip(*(list(itertools.product(option1,option2)))))[0]\n",
    "choice=list(zip(*(list(itertools.product(option1,option2)))))[1]"
   ]
  },
  {
   "cell_type": "code",
   "execution_count": 4,
   "metadata": {},
   "outputs": [],
   "source": [
    "#Create result\n",
    "stay=[]\n",
    "switch=[]\n",
    "for i in range(len(car_door)):\n",
    "    if car_door[i]==choice[i]:\n",
    "        stay.append(\"Win car\")\n",
    "        switch.append(\"Win goat\")\n",
    "    else:\n",
    "        stay.append(\"Win goat\")\n",
    "        switch.append(\"Win car\")       "
   ]
  },
  {
   "cell_type": "code",
   "execution_count": 5,
   "metadata": {},
   "outputs": [
    {
     "data": {
      "text/html": [
       "<div>\n",
       "<style scoped>\n",
       "    .dataframe tbody tr th:only-of-type {\n",
       "        vertical-align: middle;\n",
       "    }\n",
       "\n",
       "    .dataframe tbody tr th {\n",
       "        vertical-align: top;\n",
       "    }\n",
       "\n",
       "    .dataframe thead th {\n",
       "        text-align: right;\n",
       "    }\n",
       "</style>\n",
       "<table border=\"1\" class=\"dataframe\">\n",
       "  <thead>\n",
       "    <tr style=\"text-align: right;\">\n",
       "      <th></th>\n",
       "      <th>Door with car</th>\n",
       "      <th>Choice</th>\n",
       "      <th>If stay</th>\n",
       "      <th>If switch</th>\n",
       "    </tr>\n",
       "  </thead>\n",
       "  <tbody>\n",
       "    <tr>\n",
       "      <th>0</th>\n",
       "      <td>A</td>\n",
       "      <td>A</td>\n",
       "      <td>Win car</td>\n",
       "      <td>Win goat</td>\n",
       "    </tr>\n",
       "    <tr>\n",
       "      <th>1</th>\n",
       "      <td>A</td>\n",
       "      <td>B</td>\n",
       "      <td>Win goat</td>\n",
       "      <td>Win car</td>\n",
       "    </tr>\n",
       "    <tr>\n",
       "      <th>2</th>\n",
       "      <td>A</td>\n",
       "      <td>C</td>\n",
       "      <td>Win goat</td>\n",
       "      <td>Win car</td>\n",
       "    </tr>\n",
       "    <tr>\n",
       "      <th>3</th>\n",
       "      <td>B</td>\n",
       "      <td>A</td>\n",
       "      <td>Win goat</td>\n",
       "      <td>Win car</td>\n",
       "    </tr>\n",
       "    <tr>\n",
       "      <th>4</th>\n",
       "      <td>B</td>\n",
       "      <td>B</td>\n",
       "      <td>Win car</td>\n",
       "      <td>Win goat</td>\n",
       "    </tr>\n",
       "    <tr>\n",
       "      <th>5</th>\n",
       "      <td>B</td>\n",
       "      <td>C</td>\n",
       "      <td>Win goat</td>\n",
       "      <td>Win car</td>\n",
       "    </tr>\n",
       "    <tr>\n",
       "      <th>6</th>\n",
       "      <td>C</td>\n",
       "      <td>A</td>\n",
       "      <td>Win goat</td>\n",
       "      <td>Win car</td>\n",
       "    </tr>\n",
       "    <tr>\n",
       "      <th>7</th>\n",
       "      <td>C</td>\n",
       "      <td>B</td>\n",
       "      <td>Win goat</td>\n",
       "      <td>Win car</td>\n",
       "    </tr>\n",
       "    <tr>\n",
       "      <th>8</th>\n",
       "      <td>C</td>\n",
       "      <td>C</td>\n",
       "      <td>Win car</td>\n",
       "      <td>Win goat</td>\n",
       "    </tr>\n",
       "  </tbody>\n",
       "</table>\n",
       "</div>"
      ],
      "text/plain": [
       "  Door with car Choice   If stay If switch\n",
       "0             A      A   Win car  Win goat\n",
       "1             A      B  Win goat   Win car\n",
       "2             A      C  Win goat   Win car\n",
       "3             B      A  Win goat   Win car\n",
       "4             B      B   Win car  Win goat\n",
       "5             B      C  Win goat   Win car\n",
       "6             C      A  Win goat   Win car\n",
       "7             C      B  Win goat   Win car\n",
       "8             C      C   Win car  Win goat"
      ]
     },
     "execution_count": 5,
     "metadata": {},
     "output_type": "execute_result"
    }
   ],
   "source": [
    "#Create data frame\n",
    "dictdf={}\n",
    "dictdf={\"Door with car\":car_door,\"Choice\":choice,\"If stay\":stay,\"If switch\":switch}\n",
    "df=pd.DataFrame(dictdf)\n",
    "df"
   ]
  },
  {
   "cell_type": "code",
   "execution_count": 6,
   "metadata": {},
   "outputs": [],
   "source": [
    "#Create function that work for multiple door\n",
    "def montyHall(num_door):\n",
    "    option1=[str(i) for i in list(range(num_door))]\n",
    "    option2=[str(i) for i in list(range(num_door))]\n",
    "    car_door=list(zip(*(list(itertools.product(option1,option2)))))[0]\n",
    "    choice=list(zip(*(list(itertools.product(option1,option2)))))[1]\n",
    "    stay=[]\n",
    "    switch=[]\n",
    "    for i in range(len(car_door)):\n",
    "        if car_door[i]==choice[i]:\n",
    "            stay.append(1)\n",
    "            switch.append(0)\n",
    "        else:\n",
    "            stay.append(0)\n",
    "            switch.append(1)\n",
    "    return sum(switch)/len(car_door)"
   ]
  },
  {
   "cell_type": "code",
   "execution_count": 7,
   "metadata": {},
   "outputs": [
    {
     "data": {
      "text/plain": [
       "0.9"
      ]
     },
     "execution_count": 7,
     "metadata": {},
     "output_type": "execute_result"
    }
   ],
   "source": [
    "montyHall(10)"
   ]
  },
  {
   "cell_type": "code",
   "execution_count": 8,
   "metadata": {},
   "outputs": [],
   "source": [
    "def MontyHallSimulation(numdoor,numrevealed):\n",
    "    if numdoor-numrevealed<2:\n",
    "        print(\"Invalid number of being door revealed!\")\n",
    "        print(\"Please enter again!!!\")\n",
    "        return 0\n",
    "\n",
    "    option=list(range(numdoor))\n",
    "    stay = []\n",
    "    switch = []\n",
    "    num_sim=10000\n",
    "\n",
    "    for i in range(num_sim):\n",
    "        car_door = np.random.choice(option)\n",
    "        original_choice = np.random.choice(option)\n",
    "        goat_door = list(set(option)-{car_door}-{original_choice})\n",
    "        \n",
    "        #Prepare to open all the door that has goat randomly\n",
    "        goat_door_temp=goat_door\n",
    "        door_revealed=[]\n",
    "        \n",
    "        #Randomly open goat door wont effect switching space\n",
    "        for i in range(numrevealed):\n",
    "            door_revealed.append(np.random.choice(goat_door_temp))\n",
    "            goat_door_temp=list(set(goat_door_temp)-{door_revealed[i]})\n",
    "        \n",
    "        #The final door for switching strategy, there are 2 cases\n",
    "        if_switch_list=list(set(option)-set(door_revealed)-{original_choice})\n",
    "        \n",
    "        #This switch is for case A:\n",
    "        if_switch_A = if_switch_list[0]\n",
    "        \n",
    "        #Record the prize\n",
    "        #Case A:      \n",
    "        if numdoor-numrevealed==2:\n",
    "            if if_switch_A == car_door:\n",
    "                switch.append(1)\n",
    "            else:\n",
    "                switch.append(0)\n",
    "\n",
    "            if original_choice == car_door:\n",
    "                stay.append(1)\n",
    "            else:\n",
    "                stay.append(0)\n",
    "        \n",
    "            \n",
    "        #Case B:\n",
    "        elif numdoor-numrevealed>2:\n",
    "            if car_door in if_switch_list:\n",
    "                if_switch_B=np.random.choice(if_switch_list) #Last switch for case B\n",
    "                if if_switch_B==car_door:\n",
    "                    switch.append(1)\n",
    "                else:\n",
    "                    switch.append(0)\n",
    "            else:\n",
    "                switch.append(0)\n",
    "\n",
    "            if original_choice == car_door:\n",
    "                stay.append(1)\n",
    "            else:\n",
    "                stay.append(0)\n",
    "    \n",
    "    #Graph\n",
    "    num_sim_list=list(range(1,num_sim+1))\n",
    "    cum_mean_stay=[np.mean(stay[:i]) for i in num_sim_list] #Getting \n",
    "    cum_mean_switch=[np.mean(switch[:i]) for i in num_sim_list]\n",
    "    sns.lineplot(num_sim_list,cum_mean_stay,color=\"darkorange\",label=\"Staying win rate\")\n",
    "    sns.lineplot(num_sim_list,cum_mean_switch,color='navy',label=\"Switching win rate\")\n",
    "    plt.legend()\n",
    "    plt.title(\"Simulated Probabilities for {} doors with {} door(s) revealed\".format(numdoor,numrevealed))\n",
    "    plt.show()\n",
    "    print(\"'Staying' win rate mean:\", np.mean(stay))\n",
    "    print(\"'Switching' win rate mean:\" , np.mean(switch))\n",
    "    \n",
    "    if (numdoor-numrevealed)==2:\n",
    "        print(\"Exact probability for 'switching':\",(numdoor-1)/numdoor)\n",
    "        print(\"Exact probability for 'staying':\",1/numdoor)\n",
    "    else:\n",
    "        result=(numdoor-1)/(numdoor*(numdoor-numrevealed-1))\n",
    "        print(\"Exact probability for 'switching':\",result)\n",
    "        print(\"Exact probability for 'staying':\",1/numdoor)\n",
    "    "
   ]
  },
  {
   "cell_type": "code",
   "execution_count": 19,
   "metadata": {},
   "outputs": [
    {
     "data": {
      "image/png": "[encoded data removed]",
      "text/plain": [
       "<Figure size 432x288 with 1 Axes>"
      ]
     },
     "metadata": {
      "needs_background": "light"
     },
     "output_type": "display_data"
    },
    {
     "name": "stdout",
     "output_type": "stream",
     "text": [
      "'Staying' win rate mean: 0.001\n",
      "'Switching' win rate mean: 0.0017\n",
      "Exact probability for 'switching': 0.0013833441964043235\n",
      "Exact probability for 'staying': 0.0012254901960784314\n"
     ]
    }
   ],
   "source": [
    "MontyHallSimulation(816,93)"
   ]
  },
  {
   "cell_type": "code",
   "execution_count": null,
   "metadata": {},
   "outputs": [],
   "source": []
  }
 ],
 "metadata": {
  "kernelspec": {
   "display_name": "Python 3",
   "language": "python",
   "name": "python3"
  },
  "language_info": {
   "codemirror_mode": {
    "name": "ipython",
    "version": 3
   },
   "file_extension": ".py",
   "mimetype": "text/x-python",
   "name": "python",
   "nbconvert_exporter": "python",
   "pygments_lexer": "ipython3",
   "version": "3.7.3"
  }
 },
 "nbformat": 4,
 "nbformat_minor": 2
}
